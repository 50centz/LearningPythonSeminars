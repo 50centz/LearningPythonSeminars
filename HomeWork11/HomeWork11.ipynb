{
  "cells": [
    {
      "cell_type": "markdown",
      "metadata": {
        "id": "1CHwT2O9WlaH"
      },
      "source": [
        "f(x) = -12*x\\**4*sin(cos(x)) - 18*x\\**3+5*x\\**2 + 10*x - 30\n",
        "\n",
        "Определить корни\n",
        "\n",
        "Найти интервалы, на которых функция возрастает\n",
        "\n",
        "Найти интервалы, на которых функция убывает\n",
        "\n",
        "Построить график\n",
        "\n",
        "Вычислить вершину\n",
        "\n",
        "Определить промежутки, на котором f > 0\n",
        "\n",
        "Определить промежутки, на котором f < 0 "
      ]
    },
    {
      "cell_type": "code",
      "execution_count": 1,
      "metadata": {
        "id": "SCkb0_30SGxj"
      },
      "outputs": [],
      "source": [
        "import matplotlib.pyplot as plt\n",
        "import numpy as np"
      ]
    },
    {
      "cell_type": "code",
      "execution_count": 2,
      "metadata": {
        "id": "BHyFcAKkdjoy"
      },
      "outputs": [],
      "source": [
        "x = np.arange(-3, 3, 0.1)"
      ]
    },
    {
      "cell_type": "code",
      "execution_count": 3,
      "metadata": {
        "id": "c9vX6HF_q5zd"
      },
      "outputs": [],
      "source": [
        "a, b, c, d, e = -12, -18, 5, 10, -30 "
      ]
    },
    {
      "cell_type": "code",
      "execution_count": 4,
      "metadata": {
        "id": "uk1pO_qZgTng"
      },
      "outputs": [],
      "source": [
        "def func(a, b, c, d, e, x):\n",
        "  return a*x**4*np.sin(np.cos(x))+b*x**3+c*x**2+d*x+e"
      ]
    },
    {
      "cell_type": "markdown",
      "metadata": {
        "id": "Jzrr-q4wqRZm"
      },
      "source": [
        "Построить график"
      ]
    },
    {
      "cell_type": "code",
      "execution_count": 5,
      "metadata": {
        "id": "vrm7-DUAr5we"
      },
      "outputs": [],
      "source": [
        "#Корни\n",
        "x1list = func(a, b, c, d, e, x)\n",
        "def x1():\n",
        "  count = -3\n",
        "  list_x = []\n",
        "  for i in x1list:\n",
        "    list_x.append(i)\n",
        "    count += 0.1\n",
        "    if i < 0:\n",
        "      y = i\n",
        "      return count, y, list_x\n",
        "      break\n"
      ]
    },
    {
      "cell_type": "code",
      "execution_count": 6,
      "metadata": {
        "id": "_nhFdbZ_uYea"
      },
      "outputs": [],
      "source": [
        "x1 = x1()\n",
        "c0 = round(x1[0], 2)\n",
        "c1 = round(x1[1], 2)\n",
        "c5 = x1[2] "
      ]
    },
    {
      "cell_type": "code",
      "execution_count": 7,
      "metadata": {
        "colab": {
          "base_uri": "https://localhost:8080/"
        },
        "id": "ZXVCYbno4EWn",
        "outputId": "72114d75-a7dc-4135-c362-08371fc68d52"
      },
      "outputs": [
        {
          "name": "stdout",
          "output_type": "stream",
          "text": [
            "-1.2 -4.06\n"
          ]
        }
      ],
      "source": [
        "print(c0, c1)"
      ]
    },
    {
      "cell_type": "code",
      "execution_count": 8,
      "metadata": {
        "id": "QuiXaxXfudjC"
      },
      "outputs": [],
      "source": [
        "count_y = 0\n",
        "for i in x1list:\n",
        "  count_y += 1\n",
        "  if i < 0:\n",
        "    break"
      ]
    },
    {
      "cell_type": "code",
      "execution_count": 9,
      "metadata": {
        "id": "etbkQ4JSz7kv"
      },
      "outputs": [],
      "source": [
        "def x2(count_y, c0):\n",
        "  for i in range(count_y, len(x1list)):\n",
        "    c0 += 0.1 \n",
        "    if x1list[i] > 0:\n",
        "      z = x1list[i]\n",
        "      return z, c0\n",
        "      break\n"
      ]
    },
    {
      "cell_type": "code",
      "execution_count": 10,
      "metadata": {
        "id": "7sC4Y01d2jRY"
      },
      "outputs": [],
      "source": [
        "x2 = x2(count_y, c0)\n",
        "c3 = round(x2[0], 2)\n",
        "c2 = x2[1] - 0.1\n",
        "c4 = round(c2, 2)"
      ]
    },
    {
      "cell_type": "code",
      "execution_count": 11,
      "metadata": {
        "colab": {
          "base_uri": "https://localhost:8080/"
        },
        "id": "7FsknYdN4KZ2",
        "outputId": "da8365fb-132b-400c-b769-4a80bb0f51e8"
      },
      "outputs": [
        {
          "name": "stdout",
          "output_type": "stream",
          "text": [
            "8.0 2.3\n"
          ]
        }
      ],
      "source": [
        "print(c3, c4)"
      ]
    },
    {
      "cell_type": "code",
      "execution_count": 12,
      "metadata": {
        "id": "bmkE4d3S8bvF"
      },
      "outputs": [],
      "source": [
        "min_y = min(func(a, b, c, d, e, x))\n",
        "min_y = round(min_y, 2)"
      ]
    },
    {
      "cell_type": "code",
      "execution_count": 13,
      "metadata": {
        "id": "Em8DinWa8lRc"
      },
      "outputs": [],
      "source": [
        "def min_x(x1list):\n",
        "  count_min_x = -3\n",
        "  for i in x1list:\n",
        "    count_min_x += 0.1\n",
        "    if i == -74.10623434395417:\n",
        "      return count_min_x\n",
        "      break\n",
        "\n"
      ]
    },
    {
      "cell_type": "code",
      "execution_count": 14,
      "metadata": {
        "id": "UM5nHYsg9Y1O"
      },
      "outputs": [],
      "source": [
        "min_x1 = min_x(x1list) - 0.1\n",
        "min_x = round(min_x1, 2)"
      ]
    },
    {
      "cell_type": "code",
      "execution_count": 15,
      "metadata": {
        "colab": {
          "base_uri": "https://localhost:8080/",
          "height": 265
        },
        "id": "6cpii0Ilg1bB",
        "outputId": "41d2aa60-6163-41aa-ab2e-c15dea3b9d45"
      },
      "outputs": [
        {
          "data": {
            "image/png": "[encoded data removed]",
            "text/plain": [
              "<Figure size 432x288 with 1 Axes>"
            ]
          },
          "metadata": {
            "needs_background": "light"
          },
          "output_type": "display_data"
        }
      ],
      "source": [
        "pos_down = np.arange(-3, c0, 0.10)\n",
        "neg_down = np.arange(c0, min_x, 0.10)\n",
        "neg_up = np.arange(min_x, c4, 0.10)\n",
        "pos_up = np.arange(c4, 3, 0.10)\n",
        "\n",
        "#График\n",
        "#plt.plot(x, func(a, b, c, d , e, x), 'b-')\n",
        "\n",
        "#Корни\n",
        "plt.plot(c0, c1, 'go', label = f'Корни ({c0}, {c4})')\n",
        "plt.plot(c4, c3, 'go')\n",
        "\n",
        "#вершина\n",
        "plt.plot(min_x, min_y, 'rx', label = f'Вершина({min_x}, {min_y})')\n",
        "\n",
        "#pos_down\n",
        "\n",
        "plt.plot(pos_down, func(a, b, c, d, e, pos_down) , 'b-', label = 'Убывает > 0')\n",
        "\n",
        "#neg_down\n",
        "\n",
        "plt.plot(neg_down, func(a, b, c, d, e, neg_down), 'y-.', label = 'Убывает < 0')\n",
        "\n",
        "#neg_up\n",
        "\n",
        "plt.plot(neg_up, func(a, b, c, d, e, neg_up), 'r-.', label = 'Возрастает < 0')\n",
        "\n",
        "#pos_up\n",
        "\n",
        "plt.plot(pos_up, func(a, b, c, d, e, pos_up), 'g-', label = 'Возрастает > 0')\n",
        "\n",
        "plt.legend()\n",
        "plt.grid()"
      ]
    }
  ],
  "metadata": {
    "colab": {
      "provenance": []
    },
    "kernelspec": {
      "display_name": "Python 3.10.10 64-bit (microsoft store)",
      "language": "python",
      "name": "python3"
    },
    "language_info": {
      "name": "python",
      "version": "3.10.10"
    },
    "vscode": {
      "interpreter": {
        "hash": "9e00472bc0b8b48c7904c00a42aad49e05da95c563a46f85c0c579a891230704"
      }
    }
  },
  "nbformat": 4,
  "nbformat_minor": 0
}
