{
  "cells": [
    {
      "cell_type": "markdown",
      "metadata": {
        "id": "Y8W1VY9pQ8BZ"
      },
      "source": [
        "Дана функция f(x) = 5x^2 + 10x - 30\n",
        "\n",
        "Определить корни\n",
        "\n",
        "Найти интервалы, на которых функция возрастает\n",
        "\n",
        "Найти интервалы, на которых функция убывает\n",
        "\n",
        "Построить график\n",
        "\n",
        "Вычислить вершину\n",
        "\n",
        "Определить промежутки, на котором f > 0\n",
        "\n",
        "Определить промежутки, на котором f < 0\n",
        "\n",
        "Корни находят по формуле дискриминанта"
      ]
    },
    {
      "cell_type": "code",
      "execution_count": 17,
      "metadata": {
        "id": "y6yDhN_BQtnZ"
      },
      "outputs": [],
      "source": [
        "import matplotlib.pyplot as plt\n",
        "import random\n",
        "import numpy as np"
      ]
    },
    {
      "cell_type": "code",
      "execution_count": 18,
      "metadata": {
        "id": "S2o0NhLXRCCo"
      },
      "outputs": [],
      "source": [
        "f = lambda x: random.randint(1, 10)"
      ]
    },
    {
      "cell_type": "code",
      "execution_count": 19,
      "metadata": {
        "id": "JbkVJPPNRD74"
      },
      "outputs": [],
      "source": [
        "points = list(map(f, range(1, 10)))"
      ]
    },
    {
      "cell_type": "code",
      "execution_count": 20,
      "metadata": {
        "colab": {
          "base_uri": "https://localhost:8080/",
          "height": 282
        },
        "id": "PdWMGw9kRFdf",
        "outputId": "10445940-ce50-4205-f312-822c7982e5d6"
      },
      "outputs": [
        {
          "data": {
            "text/plain": [
              "[<matplotlib.lines.Line2D at 0x7fbc1b0da040>]"
            ]
          },
          "execution_count": 20,
          "metadata": {},
          "output_type": "execute_result"
        },
        {
          "data": {
            "image/png": "[encoded data removed]",
            "text/plain": [
              "<Figure size 432x288 with 1 Axes>"
            ]
          },
          "metadata": {
            "needs_background": "light"
          },
          "output_type": "display_data"
        }
      ],
      "source": [
        "plt.plot(points, 'b-')"
      ]
    },
    {
      "cell_type": "code",
      "execution_count": 21,
      "metadata": {
        "id": "mVFg-SUjRItZ"
      },
      "outputs": [],
      "source": [
        "a, b, c = 5, 10, -30"
      ]
    },
    {
      "cell_type": "code",
      "execution_count": 22,
      "metadata": {
        "id": "BRazrpdCRKgQ"
      },
      "outputs": [],
      "source": [
        "x = np.arange(-10, 10, 0.01)"
      ]
    },
    {
      "cell_type": "code",
      "execution_count": 23,
      "metadata": {
        "id": "GKUpaUEtRMJf"
      },
      "outputs": [],
      "source": [
        "def func(a, b, c, x):\n",
        "    return a * x ** 2 + b * x + c"
      ]
    },
    {
      "cell_type": "code",
      "execution_count": 24,
      "metadata": {
        "id": "hBG3QsU0RNwf"
      },
      "outputs": [],
      "source": [
        "def disc(a, b, c):\n",
        "    return b **2 - 4 * a * c"
      ]
    },
    {
      "cell_type": "code",
      "execution_count": 25,
      "metadata": {
        "colab": {
          "base_uri": "https://localhost:8080/"
        },
        "id": "wIsTrDTGRPG_",
        "outputId": "a8e3da5a-d86a-428e-cbb6-261261eafcea"
      },
      "outputs": [
        {
          "name": "stdout",
          "output_type": "stream",
          "text": [
            "700\n"
          ]
        }
      ],
      "source": [
        "print(disc(a, b, c))"
      ]
    },
    {
      "cell_type": "code",
      "execution_count": 26,
      "metadata": {
        "id": "vhipU3A1RQ8f"
      },
      "outputs": [],
      "source": [
        "def find_sqrt(a, b, c):\n",
        "    d = disc(a, b, c)\n",
        "    if d < 0:\n",
        "        return ('Корней нет',)\n",
        "    elif d == 0:\n",
        "        x = -b / (2 * a)\n",
        "        return (round(x, 2),)\n",
        "    else:\n",
        "        x1 = (-b + d ** 0.5) / (2 * a)\n",
        "        x2 = (-b - d ** 0.5) / (2 * a)\n",
        "        return (round(x1, 2), round(x2, 2),)"
      ]
    },
    {
      "cell_type": "code",
      "execution_count": 27,
      "metadata": {
        "id": "4F37gIVqRS0a"
      },
      "outputs": [],
      "source": [
        "sqrt = find_sqrt(a, b, c)"
      ]
    },
    {
      "cell_type": "code",
      "execution_count": 28,
      "metadata": {
        "id": "8HCpfEvyRUfP"
      },
      "outputs": [],
      "source": [
        "min_y = min(func(a, b, c, x))"
      ]
    },
    {
      "cell_type": "code",
      "execution_count": 29,
      "metadata": {
        "colab": {
          "base_uri": "https://localhost:8080/"
        },
        "id": "f297f0rGRWEv",
        "outputId": "5462b6ed-87f6-44a0-ac2d-43b1c879c60c"
      },
      "outputs": [
        {
          "name": "stdout",
          "output_type": "stream",
          "text": [
            "-35.0\n"
          ]
        }
      ],
      "source": [
        "print(min_y)"
      ]
    },
    {
      "cell_type": "code",
      "execution_count": 30,
      "metadata": {
        "colab": {
          "base_uri": "https://localhost:8080/"
        },
        "id": "HOQR2KTsRXun",
        "outputId": "917714fa-9fd2-4525-a344-e51f740fbda0"
      },
      "outputs": [
        {
          "name": "stdout",
          "output_type": "stream",
          "text": [
            "Вершина графика:  -1.0 -35.0\n"
          ]
        }
      ],
      "source": [
        "c2 = c - min_y\n",
        "min_x = find_sqrt(a, b, c2)\n",
        "min_x = min_x[0]\n",
        "print('Вершина графика: ', min_x, min_y)"
      ]
    },
    {
      "cell_type": "code",
      "execution_count": 31,
      "metadata": {
        "id": "Fmwp5mZiRY7J"
      },
      "outputs": [],
      "source": [
        "grow_up_x = np.arange(min_x, 10, 0.01)\n",
        "grow_down_x = np.arange(-10, min_x, 0.01)"
      ]
    },
    {
      "cell_type": "code",
      "execution_count": 32,
      "metadata": {
        "colab": {
          "base_uri": "https://localhost:8080/",
          "height": 265
        },
        "id": "4HJhwZx-Raoo",
        "outputId": "0205a0c9-914c-4463-ff7f-2fd5c7b8a320"
      },
      "outputs": [
        {
          "data": {
            "image/png": "[encoded data removed]",
            "text/plain": [
              "<Figure size 432x288 with 1 Axes>"
            ]
          },
          "metadata": {
            "needs_background": "light"
          },
          "output_type": "display_data"
        }
      ],
      "source": [
        "pos_down = np.arange(-10, sqrt[1], 0.01)\n",
        "neg_down = np.arange(sqrt[1], min_x, 0.01)\n",
        "neg_up = np.arange(min_x, sqrt[0], 0.01)\n",
        "pos_up = np.arange(sqrt[0], 10, 0.01)\n",
        "\n",
        "# plt.plot(x, func(a, b, c, x), 'r-')\n",
        "\n",
        "#корни\n",
        "plt.plot(sqrt[0], 0, 'go', label = f'Корни ({sqrt[0]}, {sqrt[1]})')\n",
        "plt.plot(sqrt[1], 0, 'go')\n",
        "\n",
        "#вершина\n",
        "plt.plot(min_x, min_y, 'rx', label = f'Вершина({min_x}, {min_y})')\n",
        "\n",
        "#возрастание графика\n",
        "# plt.plot(grow_up_x, func(a, b, c, grow_up_x), 'y-')\n",
        "\n",
        "#убывание графика\n",
        "# plt.plot(grow_down_x, func(a, b, c, grow_down_x), 'b-')\n",
        "\n",
        "#pos_down\n",
        "plt.rcParams['lines.linestyle'] = '-'\n",
        "plt.plot(pos_down, func(a, b, c, pos_down), 'b', label = 'Убывает > 0')\n",
        "\n",
        "#neg_down\n",
        "plt.rcParams['lines.linestyle'] = '-.'\n",
        "plt.plot(neg_down, func(a, b, c, neg_down), 'b', label = 'Убывает < 0')\n",
        "\n",
        "#neg_up\n",
        "plt.rcParams['lines.linestyle'] = '-.'\n",
        "plt.plot(neg_up, func(a, b, c, neg_up), 'y', label = 'Возрастает < 0')\n",
        "\n",
        "#pos_up\n",
        "plt.rcParams['lines.linestyle'] = '-'\n",
        "plt.plot(pos_up, func(a, b, c, pos_up), 'y', label = 'Возрастает > 0')\n",
        "plt.legend()\n",
        "plt.grid()"
      ]
    },
    {
      "cell_type": "markdown",
      "metadata": {
        "id": "k3UZBXltQwm5"
      },
      "source": []
    }
  ],
  "metadata": {
    "colab": {
      "provenance": []
    },
    "kernelspec": {
      "display_name": "Python 3.10.9 64-bit (microsoft store)",
      "language": "python",
      "name": "python3"
    },
    "language_info": {
      "name": "python",
      "version": "3.10.9"
    },
    "vscode": {
      "interpreter": {
        "hash": "9e00472bc0b8b48c7904c00a42aad49e05da95c563a46f85c0c579a891230704"
      }
    }
  },
  "nbformat": 4,
  "nbformat_minor": 0
}
